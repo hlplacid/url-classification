{
 "cells": [
  {
   "cell_type": "markdown",
   "metadata": {},
   "source": [
    "#### Stacking - A Meta-Classifier is Applied to Base Models\n"
   ]
  },
  {
   "cell_type": "markdown",
   "metadata": {},
   "source": [
    "Stacking is an ensemble learing technique which combines multiple classification models with a meta-classifier. The goal is to improve prediction accuracy by leveraging multiple models.\n",
    "\n",
    "In this notebook, we stack models which were trained on features engineered using NLP techniques. Logistic Regression is used as the meta-classifier."
   ]
  },
  {
   "cell_type": "markdown",
   "metadata": {},
   "source": [
    "Outline\n",
    "1. Data\n",
    "1. Machine Learning\n",
    "    a. Cross Validation\n",
    "    b. Fit, Predict and Score"
   ]
  },
  {
   "cell_type": "markdown",
   "metadata": {},
   "source": [
    "##### Prelimiary data acquisition and wrangling"
   ]
  },
  {
   "cell_type": "code",
   "execution_count": 1,
   "metadata": {},
   "outputs": [
    {
     "name": "stderr",
     "output_type": "stream",
     "text": [
      "C:\\Users\\pablo\\Anaconda3\\lib\\site-packages\\statsmodels\\tools\\_testing.py:19: FutureWarning: pandas.util.testing is deprecated. Use the functions in the public API at pandas.testing instead.\n",
      "  import pandas.util.testing as tm\n"
     ]
    }
   ],
   "source": [
    "import numpy as np\n",
    "import pandas as pd\n",
    "import matplotlib.pyplot as plt\n",
    "import seaborn as sns\n",
    "from scipy import stats\n",
    "import warnings\n",
    "warnings.filterwarnings('ignore')\n",
    "warnings.simplefilter('ignore')\n",
    "import gc\n",
    "gc.enable();"
   ]
  },
  {
   "cell_type": "code",
   "execution_count": 3,
   "metadata": {},
   "outputs": [],
   "source": [
    "pd.set_option('display.max_rows', 500)\n",
    "pd.set_option('display.max_columns', 500)\n",
    "pd.set_option('display.width', 1000)"
   ]
  },
  {
   "cell_type": "code",
   "execution_count": 4,
   "metadata": {},
   "outputs": [],
   "source": [
    "# read in data\n",
    "df = pd.read_pickle('capstone2_balanced_withfeatures')\n",
    "\n",
    "# create a dataframe that contains only the target variable and tokenized url\n",
    "df_model = df.loc[:,['category', 'tokenized_url']]"
   ]
  },
  {
   "cell_type": "code",
   "execution_count": 5,
   "metadata": {},
   "outputs": [],
   "source": [
    "# make cateogry values numeric\n",
    "category = {'benign':1, 'phishing':2, 'malicious':3}\n",
    "df_model.category = [category[item] for item in df_model.category]"
   ]
  },
  {
   "cell_type": "code",
   "execution_count": 6,
   "metadata": {},
   "outputs": [],
   "source": [
    "# assemble all tokens\n",
    "url_tokens = [f'{str(i)}' for i in df['tokenized_url']]"
   ]
  },
  {
   "cell_type": "code",
   "execution_count": 7,
   "metadata": {},
   "outputs": [],
   "source": [
    "# create new column; frop toeknized_url\n",
    "df_model['url_tokens'] = url_tokens\n",
    "df_model = df_model.drop('tokenized_url', axis=1)"
   ]
  },
  {
   "cell_type": "code",
   "execution_count": 8,
   "metadata": {},
   "outputs": [
    {
     "name": "stdout",
     "output_type": "stream",
     "text": [
      "<class 'pandas.core.frame.DataFrame'>\n",
      "Int64Index: 30000 entries, 6229 to 282723\n",
      "Data columns (total 2 columns):\n",
      " #   Column      Non-Null Count  Dtype \n",
      "---  ------      --------------  ----- \n",
      " 0   category    30000 non-null  int64 \n",
      " 1   url_tokens  30000 non-null  object\n",
      "dtypes: int64(1), object(1)\n",
      "memory usage: 703.1+ KB\n"
     ]
    }
   ],
   "source": [
    "df_model.info()"
   ]
  },
  {
   "cell_type": "markdown",
   "metadata": {},
   "source": [
    "### Machine Learning "
   ]
  },
  {
   "cell_type": "markdown",
   "metadata": {},
   "source": [
    "#### Cross Validation"
   ]
  },
  {
   "cell_type": "code",
   "execution_count": 9,
   "metadata": {
    "scrolled": true
   },
   "outputs": [
    {
     "name": "stdout",
     "output_type": "stream",
     "text": [
      "3-fold cross validation:\n",
      "\n",
      "Accuracy: 0.96 (+/- 0.00) [Logistic Regression]\n",
      "Accuracy: 0.96 (+/- 0.00) [Random Forest Classifier]\n",
      "Accuracy: 0.96 (+/- 0.00) [LinearSVC]\n",
      "Accuracy: 0.96 (+/- 0.00) [Stacking Classifier]\n"
     ]
    }
   ],
   "source": [
    "# Specify base & meta classifers. Perform 3-fold cross validation & review cross-val accuracy scores.\n",
    "\n",
    "from sklearn.model_selection import train_test_split \n",
    "\n",
    "from sklearn.feature_extraction.text import TfidfVectorizer\n",
    "from sklearn.metrics import accuracy_score, log_loss, confusion_matrix, plot_confusion_matrix, precision_score, recall_score, f1_score, classification_report\n",
    "from sklearn.pipeline import Pipeline\n",
    "from sklearn import model_selection\n",
    "from mlxtend.classifier import StackingClassifier\n",
    "\n",
    "\n",
    "from sklearn.linear_model import LogisticRegression\n",
    "from sklearn.ensemble import RandomForestClassifier\n",
    "from sklearn.svm import LinearSVC\n",
    "\n",
    "corpus = url_tokens\n",
    "vectorizer = TfidfVectorizer(lowercase=False)\n",
    "X = vectorizer.fit_transform(corpus)\n",
    "y = df_model['category']\n",
    "\n",
    "X_train, X_test, y_train, y_test = train_test_split(X, y, test_size=0.2, random_state=42)\n",
    "\n",
    "clf1 = LogisticRegression(C = 100)\n",
    "clf2 = RandomForestClassifier(max_depth=None, max_features = 30, n_estimators = 1000)\n",
    "clf3 = LinearSVC(C = 1, penalty =  'l2')\n",
    "\n",
    "lr = LogisticRegression()\n",
    "sclf = StackingClassifier(classifiers=[clf1, clf2, clf3],\n",
    "                          meta_classifier=lr)\n",
    "\n",
    "print('3-fold cross validation:\\n')\n",
    "\n",
    "for clf, label in zip([clf1, clf2, clf3, sclf], \n",
    "                      ['Logistic Regression', 'Random Forest Classifier', \n",
    "                       'LinearSVC', 'Stacking Classifier']):\n",
    "\n",
    "    scores = model_selection.cross_val_score(clf, X, y, \n",
    "                                              cv=3, scoring='accuracy')\n",
    "    print(\"Accuracy: %0.2f (+/- %0.2f) [%s]\" \n",
    "          % (scores.mean(), scores.std(), label))\n",
    "    "
   ]
  },
  {
   "cell_type": "markdown",
   "metadata": {},
   "source": [
    "#### Fit, Predict and Score"
   ]
  },
  {
   "cell_type": "code",
   "execution_count": 10,
   "metadata": {},
   "outputs": [
    {
     "name": "stdout",
     "output_type": "stream",
     "text": [
      "Accuracy: 96.3333%\n"
     ]
    }
   ],
   "source": [
    "sclf.fit(X_train, y_train)\n",
    "\n",
    "predictions = sclf.predict(X_test)\n",
    "acc = accuracy_score(y_test, predictions)\n",
    "print(\"Accuracy: {:.4%}\".format(acc))"
   ]
  },
  {
   "cell_type": "code",
   "execution_count": 11,
   "metadata": {},
   "outputs": [
    {
     "name": "stdout",
     "output_type": "stream",
     "text": [
      "\n",
      "Accuracy: 0.9633\n",
      "\n",
      "Micro Precision: 0.9633\n",
      "Micro Recall: 0.9633\n",
      "Micro F1-score: 0.9633\n",
      "\n",
      "Macro Precision: 0.9642\n",
      "Macro Recall: 0.9633\n",
      "Macro F1-score: 0.9634\n",
      "\n",
      "Weighted Precision: 0.9642\n",
      "Weighted Recall: 0.9633\n",
      "Weighted F1-score: 0.9635\n",
      "\n",
      "Classification Report\n",
      "\n",
      "              precision    recall  f1-score   support\n",
      "\n",
      "      Benign     0.9879    0.9805    0.9842      2002\n",
      "    Phishing     0.9250    0.9699    0.9469      1996\n",
      "   Malicious     0.9797    0.9396    0.9592      2002\n",
      "\n",
      "    accuracy                         0.9633      6000\n",
      "   macro avg     0.9642    0.9633    0.9634      6000\n",
      "weighted avg     0.9642    0.9633    0.9635      6000\n",
      "\n"
     ]
    },
    {
     "data": {
      "image/png": "[encoded data removed]",
      "text/plain": [
       "<Figure size 360x360 with 2 Axes>"
      ]
     },
     "metadata": {
      "needs_background": "light"
     },
     "output_type": "display_data"
    }
   ],
   "source": [
    "# print scores\n",
    "\n",
    "print('\\nAccuracy: {:.4f}\\n'.format(accuracy_score(y_test, predictions)))\n",
    "\n",
    "print('Micro Precision: {:.4f}'.format(precision_score(y_test, predictions, average='micro')))\n",
    "print('Micro Recall: {:.4f}'.format(recall_score(y_test, predictions, average='micro')))\n",
    "print('Micro F1-score: {:.4f}\\n'.format(f1_score(y_test, predictions, average='micro')))\n",
    "\n",
    "print('Macro Precision: {:.4f}'.format(precision_score(y_test, predictions, average='macro')))\n",
    "print('Macro Recall: {:.4f}'.format(recall_score(y_test, predictions, average='macro')))\n",
    "print('Macro F1-score: {:.4f}\\n'.format(f1_score(y_test, predictions, average='macro')))\n",
    "\n",
    "print('Weighted Precision: {:.4f}'.format(precision_score(y_test, predictions, average='weighted')))\n",
    "print('Weighted Recall: {:.4f}'.format(recall_score(y_test, predictions, average='weighted')))\n",
    "print('Weighted F1-score: {:.4f}'.format(f1_score(y_test, predictions, average='weighted')))\n",
    "\n",
    "print('\\nClassification Report\\n')\n",
    "print(classification_report(y_test, predictions, target_names=['Benign', 'Phishing', 'Malicious'], digits=4))\n",
    "    \n",
    "# Plot and display confusion matrix\n",
    "cm = confusion_matrix(y_test, predictions, normalize='true')\n",
    "cmn = cm.astype('float') / cm.sum(axis=1)[:, np.newaxis]\n",
    "fig, ax = plt.subplots(figsize=(5,5))\n",
    "sns.heatmap(cmn, cmap=plt.cm.Blues, annot=True, fmt='.4f')\n",
    "plt.ylabel('Actual')\n",
    "plt.xlabel('Predicted')\n",
    "plt.title(\"Normalized confusion matrix\")\n",
    "plt.show(block=False)\n"
   ]
  }
 ],
 "metadata": {
  "kernelspec": {
   "display_name": "Python 3",
   "language": "python",
   "name": "python3"
  },
  "language_info": {
   "codemirror_mode": {
    "name": "ipython",
    "version": 3
   },
   "file_extension": ".py",
   "mimetype": "text/x-python",
   "name": "python",
   "nbconvert_exporter": "python",
   "pygments_lexer": "ipython3",
   "version": "3.7.4"
  }
 },
 "nbformat": 4,
 "nbformat_minor": 2
}
